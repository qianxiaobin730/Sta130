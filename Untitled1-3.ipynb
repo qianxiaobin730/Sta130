{
 "cells": [
  {
   "cell_type": "code",
   "execution_count": 1,
   "id": "9193e8f2",
   "metadata": {},
   "outputs": [
    {
     "data": {
      "text/plain": [
       "row_n           0\n",
       "id              1\n",
       "name            0\n",
       "gender          0\n",
       "species         0\n",
       "birthday        0\n",
       "personality     0\n",
       "song           11\n",
       "phrase          0\n",
       "full_id         0\n",
       "url             0\n",
       "dtype: int64"
      ]
     },
     "execution_count": 1,
     "metadata": {},
     "output_type": "execute_result"
    }
   ],
   "source": [
    "import pandas as pd\n",
    "url = \"https://raw.githubusercontent.com/rfordatascience/tidytuesday/master/data/2020/2020-05-05/villagers.csv\"\n",
    "df = pd.read_csv(url)\n",
    "df.isna().sum()"
   ]
  },
  {
   "cell_type": "code",
   "execution_count": 2,
   "id": "52ac7cc3",
   "metadata": {},
   "outputs": [
    {
     "name": "stdout",
     "output_type": "stream",
     "text": [
      "The DataFrame has 3 rows and 3 columns.\n"
     ]
    }
   ],
   "source": [
    "import pandas as pd\n",
    "\n",
    "# Example DataFrame\n",
    "df = pd.DataFrame({\n",
    "    'A': [1, 2, 3],\n",
    "    'B': [4, 5, 6],\n",
    "    'C': [7, 8, 9]\n",
    "})\n",
    "\n",
    "# Get the shape of the DataFrame\n",
    "rows, columns = df.shape\n",
    "\n",
    "print(f'The DataFrame has {rows} rows and {columns} columns.')\n"
   ]
  },
  {
   "cell_type": "code",
   "execution_count": 3,
   "id": "6c96e66f",
   "metadata": {},
   "outputs": [
    {
     "name": "stdout",
     "output_type": "stream",
     "text": [
      "      Name  Age Department  Salary\n",
      "0    Alice   23         HR   50000\n",
      "1      Bob   35         IT   60000\n",
      "2  Charlie   45         IT   65000\n",
      "3    David   35         HR   62000\n",
      "4      Eve   23  Marketing   58000\n"
     ]
    }
   ],
   "source": [
    "import pandas as pd\n",
    "\n",
    "# Sample DataFrame with numeric and categorical data\n",
    "data = {\n",
    "    'Name': ['Alice', 'Bob', 'Charlie', 'David', 'Eve'],\n",
    "    'Age': [23, 35, 45, 35, 23],\n",
    "    'Department': ['HR', 'IT', 'IT', 'HR', 'Marketing'],\n",
    "    'Salary': [50000, 60000, 65000, 62000, 58000]\n",
    "}\n",
    "\n",
    "df = pd.DataFrame(data)\n",
    "print(df)\n"
   ]
  },
  {
   "cell_type": "code",
   "execution_count": 4,
   "id": "cd5d9445",
   "metadata": {},
   "outputs": [
    {
     "name": "stdout",
     "output_type": "stream",
     "text": [
      "             Age        Salary\n",
      "count   5.000000      5.000000\n",
      "mean   32.200000  59000.000000\n",
      "std     9.338094   5656.854249\n",
      "min    23.000000  50000.000000\n",
      "25%    23.000000  58000.000000\n",
      "50%    35.000000  60000.000000\n",
      "75%    35.000000  62000.000000\n",
      "max    45.000000  65000.000000\n"
     ]
    }
   ],
   "source": [
    "# Summary statistics for numeric columns in the DataFrame\n",
    "summary = df.describe()\n",
    "print(summary)\n"
   ]
  },
  {
   "cell_type": "code",
   "execution_count": 1,
   "id": "b5474bf1",
   "metadata": {},
   "outputs": [
    {
     "ename": "SyntaxError",
     "evalue": "invalid decimal literal (2923399484.py, line 1)",
     "output_type": "error",
     "traceback": [
      "\u001b[0;36m  Cell \u001b[0;32mIn[1], line 1\u001b[0;36m\u001b[0m\n\u001b[0;31m    https://chatgpt.com/share/4f4c5eae-7442-4bef-a397-caf8e8edbc74\u001b[0m\n\u001b[0m                              ^\u001b[0m\n\u001b[0;31mSyntaxError\u001b[0m\u001b[0;31m:\u001b[0m invalid decimal literal\n"
     ]
    }
   ],
   "source": [
    "https://chatgpt.com/share/4f4c5eae-7442-4bef-a397-caf8e8edbc74\n"
   ]
  },
  {
   "cell_type": "code",
   "execution_count": 2,
   "id": "5b199730",
   "metadata": {},
   "outputs": [
    {
     "ename": "SyntaxError",
     "evalue": "invalid syntax (3191922627.py, line 1)",
     "output_type": "error",
     "traceback": [
      "\u001b[0;36m  Cell \u001b[0;32mIn[2], line 1\u001b[0;36m\u001b[0m\n\u001b[0;31m    6. count: the number of non-missing value in the column\u001b[0m\n\u001b[0m       ^\u001b[0m\n\u001b[0;31mSyntaxError\u001b[0m\u001b[0;31m:\u001b[0m invalid syntax\n"
     ]
    }
   ],
   "source": [
    "6. count: the number of non-missing value in the column\n",
    "    mean: the average value of the column\n",
    "    Standard deviation: The standard deviation measures the spread or dispersion of the data around the mean.\n",
    "    min: the smallest value in the column.\n",
    "    25%: The value below which 25% of the data falls.\n",
    "    50%: The middle value of the dataset, also known as the median.\n",
    "    75%: The value below which 75% of the data falls.\n",
    "    Maximum: The largest value in the column.\n",
    "\n",
    "        "
   ]
  },
  {
   "cell_type": "code",
   "execution_count": 3,
   "id": "cefd565f",
   "metadata": {},
   "outputs": [
    {
     "name": "stdout",
     "output_type": "stream",
     "text": [
      "             Age        Salary\n",
      "count   5.000000      5.000000\n",
      "mean   32.200000  59000.000000\n",
      "std     9.338094   5656.854249\n",
      "min    23.000000  50000.000000\n",
      "25%    23.000000  58000.000000\n",
      "50%    35.000000  60000.000000\n",
      "75%    35.000000  62000.000000\n",
      "max    45.000000  65000.000000\n"
     ]
    }
   ],
   "source": [
    "import pandas as pd\n",
    "\n",
    "data = {\n",
    "    'Age': [23, 35, 45, 35, 23],\n",
    "    'Salary': [50000, 60000, 65000, 62000, 58000]\n",
    "}\n",
    "\n",
    "df = pd.DataFrame(data)\n",
    "print(df.describe())\n"
   ]
  },
  {
   "cell_type": "code",
   "execution_count": 4,
   "id": "0a8a9e20",
   "metadata": {},
   "outputs": [
    {
     "ename": "SyntaxError",
     "evalue": "invalid syntax (4118664353.py, line 1)",
     "output_type": "error",
     "traceback": [
      "\u001b[0;36m  Cell \u001b[0;32mIn[4], line 1\u001b[0;36m\u001b[0m\n\u001b[0;31m    You are analyzing customer data, and the dataset contains several columns such as Name, Age, Email, and Salary. Some rows have missing values in various columns (e.g., Age is missing for some customers, while Email is missing for others). Instead of deleting entire columns, you want to drop rows that have missing values, as retaining partial information from other columns is valuable for your analysis.\u001b[0m\n\u001b[0m        ^\u001b[0m\n\u001b[0;31mSyntaxError\u001b[0m\u001b[0;31m:\u001b[0m invalid syntax\n"
     ]
    }
   ],
   "source": [
    "You are analyzing customer data, and the dataset contains several columns such as Name, Age, Email, and Salary. Some rows have missing values in various columns (e.g., Age is missing for some customers, while Email is missing for others). Instead of deleting entire columns, you want to drop rows that have missing values, as retaining partial information from other columns is valuable for your analysis.\n"
   ]
  },
  {
   "cell_type": "code",
   "execution_count": 5,
   "id": "d5e86b26",
   "metadata": {},
   "outputs": [
    {
     "ename": "SyntaxError",
     "evalue": "unterminated string literal (detected at line 1) (1988925219.py, line 1)",
     "output_type": "error",
     "traceback": [
      "\u001b[0;36m  Cell \u001b[0;32mIn[5], line 1\u001b[0;36m\u001b[0m\n\u001b[0;31m    You have a dataset containing customer information, including Name, Age, Email, and Salary, but the Email column is mostly empty or irrelevant for your analysis. You don't want to lose rows with valuable information in other columns (like Age or Salary) just because the Email column is incomplete. In this case, you might prefer to remove the Email column entirely using del rather than removing rows using df.dropna().\u001b[0m\n\u001b[0m                                                                                                                                                                             ^\u001b[0m\n\u001b[0;31mSyntaxError\u001b[0m\u001b[0;31m:\u001b[0m unterminated string literal (detected at line 1)\n"
     ]
    }
   ],
   "source": [
    "You have a dataset containing customer information, including Name, Age, Email, and Salary, but the Email column is mostly empty or irrelevant for your analysis. You don't want to lose rows with valuable information in other columns (like Age or Salary) just because the Email column is incomplete. In this case, you might prefer to remove the Email column entirely using del rather than removing rows using df.dropna().\n"
   ]
  },
  {
   "cell_type": "code",
   "execution_count": null,
   "id": "e101dcb9",
   "metadata": {},
   "outputs": [],
   "source": [
    "https://chatgpt.com/share/4f4c5eae-7442-4bef-a397-caf8e8edbc74"
   ]
  }
 ],
 "metadata": {
  "kernelspec": {
   "display_name": "Python 3 (ipykernel)",
   "language": "python",
   "name": "python3"
  },
  "language_info": {
   "codemirror_mode": {
    "name": "ipython",
    "version": 3
   },
   "file_extension": ".py",
   "mimetype": "text/x-python",
   "name": "python",
   "nbconvert_exporter": "python",
   "pygments_lexer": "ipython3",
   "version": "3.11.6"
  }
 },
 "nbformat": 4,
 "nbformat_minor": 5
}
