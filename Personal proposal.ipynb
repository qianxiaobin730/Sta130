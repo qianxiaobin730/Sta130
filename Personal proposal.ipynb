{
 "cells": [
  {
   "cell_type": "markdown",
   "id": "63ff0651",
   "metadata": {},
   "source": [
    "Analysis 1:\n",
    "\n",
    "Statement of the specific research question： Is the frequency of feeling lonely correlated with people's age in Canada?\n",
    "\n",
    "The variables:\n",
    "people’s ages and the frequency of feelings of loneliness that occurred during the past week. The reason why I chose these variables is because these two variable have specific number, instead of description of frequency, like ‘most’, ‘rare’ or ‘often’.\n",
    "\n",
    "Analyses that we are planning to perform:\n",
    "We plan to use the hypothesis testing method. By building a null hypothesis that the frequency of feeling lonely does not correlated with people’s age, and try to reject it. At the same time, the alternative one would be that they are correlated.\n",
    "\n",
    "Hypothesis: they are in fact, correlated, so, with the increasing of ages, the frequency of feeling lonely will also increase."
   ]
  },
  {
   "cell_type": "markdown",
   "id": "4a1fbf1d",
   "metadata": {},
   "source": [
    "Analysis 2:\n",
    "\n",
    "Statement of the specific research question： Is the frequency of visiting social networking websites per day correlated with people's ages in Canada?\n",
    "\n",
    "The variables: the frequency of visiting social networking websites per day and people's ages in Canada, I chose these variables because they also have specific numbers for the data, easier to collect and do the analysis, instead of using a description of frequency, like ‘most’, ‘rare’ or ‘often’. \n",
    "\n",
    "Analyses that we are planning to perform: we will choose the hypothesis testing, set the a-significant to be 0.05 for the significant level, and set up a null hypothesis that the ages of people do not correlate with the variable, and try to reject it.\n",
    "\n",
    "Hypothesis: the frequency of visiting networking websites does correlate with the ages of people in Canada, that is, when people’s ages increase, the frequency of visiting social networking websites will decrease."
   ]
  },
  {
   "cell_type": "markdown",
   "id": "4fda6e54",
   "metadata": {},
   "source": [
    "Analysis 3:\n",
    "\n",
    "Statement of the specific research question： Is the average time spent visiting social networking websites per day correlated with people's ages in Canada?\n",
    "\n",
    "The variables: the average time spent visiting social networking websites and people's ages in Canada, which both have specfic time intervals and a number of ages in the data set, for example, 1-2 hours, or 2-3 hours, or 21 or 71, which makes it easier to be analyzed.\n",
    "\n",
    "Analyses that we are planning to perform: we will still try to use the hypothesis testing, and set the significant level to be 0.05, set a null hypothesis to be like, there is no correlation at all， and try to reject it.\n",
    "\n",
    "Hypothesis: the variable that we have chosen, is correlated to the ages of the people in Canada, so that means that with the increase of people's age, the average time spent in visiting social networking websites pre-day will decrease.\n"
   ]
  },
  {
   "cell_type": "markdown",
   "id": "57f2762c",
   "metadata": {},
   "source": [
    "Team members: Jia Rui Qian, Xuan Yu Zhang."
   ]
  }
 ],
 "metadata": {
  "kernelspec": {
   "display_name": "Python 3 (ipykernel)",
   "language": "python",
   "name": "python3"
  },
  "language_info": {
   "codemirror_mode": {
    "name": "ipython",
    "version": 3
   },
   "file_extension": ".py",
   "mimetype": "text/x-python",
   "name": "python",
   "nbconvert_exporter": "python",
   "pygments_lexer": "ipython3",
   "version": "3.11.6"
  }
 },
 "nbformat": 4,
 "nbformat_minor": 5
}
