{
 "cells": [
  {
   "cell_type": "markdown",
   "id": "843c5cb5",
   "metadata": {},
   "source": [
    "#1: The key factor that separates ideas that can be statistically tested and examined from those that cannot is falsifiability. For an idea or hypothesis to be statistically tested, its structure must be amenable to empirical observation and measurement. This means that it should produce clear, measurable results that support or refute the hypothesis. Ideas that are vague, subjective or lack clear operational definitions cannot be effectively tested statistically.\n",
    "\n",
    "Difference between null hypothesis and alternative hypothesis\n",
    "\n",
    "Null Hypothesis (H₀): The null hypothesis assumes that there are no effects or differences. It is a default position that assumes that any observed effects are due to sampling error or chance. For example, in a clinical trial, the null hypothesis might be that a new drug has no effect on patients compared to a placebo.\n",
    "\n",
    "Alternative hypothesis (H₁ or Hₐ): The alternative hypothesis assumes that there is an effect or difference. It represents the idea that the researcher is trying to prove or support. Continuing with the example of a clinical trial, the alternative hypothesis would state that the new drug does have a significant effect on patients compared to placebo.\n",
    "\n"
   ]
  },
  {
   "cell_type": "markdown",
   "id": "2569bcaa",
   "metadata": {},
   "source": [
    "#2: What this statement means is that when we perform a statistical test, the results will apply to the entire populatioin we are interested in, not just the particular sample of data we are using. In other words, even though we are analysing a smaller group (sample), the conclusions drawn are intended to describe the overall population, the larger group we are interested in. So the result we get is for population, not the sample. Population: the entire group of indivisuals or data you are interested in studying, and the sample is a smaller group you have chosen randomly for testing."
   ]
  },
  {
   "cell_type": "markdown",
   "id": "b16ae852",
   "metadata": {},
   "source": [
    "#3: That sentence is correct, that P-value represents the possibility of real data, or the real result that observed during the experiment when we assume the nullhypiothesis is ture, and compare it to the a-significant that we set up."
   ]
  },
  {
   "cell_type": "markdown",
   "id": "066ad600",
   "metadata": {},
   "source": [
    "#4: In order to understanding the sentence, we have to figure out the relationship between the P-valne and the null hypothesis: P-value refers to the possibility of our obsered data, or the data we have collect could happen if the null hypothesis is true. The smaller the p-value, the less consistent the observed data is with the null hypothesis being true. In other words, it becomes increasingly difficult to believe that the null hypothesis accurately represents reality, because we have to trust the data we have collected. If our observed data seems ridiculous when the null hypothesis is true, then we have to believe the null hypoythesis is the ridiculous one, instead of our observed data.\n",
    "Example for clarity: flipping coin situation:\n",
    "Let’s say you flip a coin 100 times and observe 75 heads.\n",
    "Null Hypothesis (H₀): The coin is fair (p = 0.5).\n",
    "P-value Calculation: If you calculate the p-value and find it to be 0.001, this means that if the coin were fair, there’s only a 0.1% chance of getting 75 or more heads purely due to random chance."
   ]
  },
  {
   "cell_type": "markdown",
   "id": "42722909",
   "metadata": {},
   "source": [
    "#5: \n",
    "\n",
    "1. null hypothesis (H₀): \n",
    "under the null hypothesis, the probability of a couple tilting their heads to the right is 50% (i.e., a 50/50 probability, like flipping a fair coin).\n",
    "\n",
    "2. Observations\n",
    "80 out of 124 couples (64.5%) incline their heads to the right.\n",
    "We want to determine whether this observed proportion (64.5%) is significantly different from the expected 50% (based on H₀).\n",
    "\n",
    "3. simulate the 50/50 model:\n",
    "Treat each couple's head tilt as a coin toss (right = heads, left = tails).\n",
    "Simulate a many (e.g., 10,000) random samples of 124 couples, each of which has a 50% chance of tilting to the right.\n",
    "Calculate the number of times the number of ‘tilts to the right’ is greater than or equal to 80 (the number of observations).\n",
    "\n",
    "4. Calculate the P-value:\n",
    "The P-value is the proportion of 80 or more couples in the simulated sample who lean to the right.\n"
   ]
  },
  {
   "cell_type": "code",
   "execution_count": 1,
   "id": "4db082d3",
   "metadata": {},
   "outputs": [
    {
     "name": "stdout",
     "output_type": "stream",
     "text": [
      "P-value: 0.0008\n"
     ]
    }
   ],
   "source": [
    "# Visualization：\n",
    "import numpy as np\n",
    "\n",
    "# Parameters\n",
    "n_couples = 124  # Number of couples\n",
    "observed_right_tilts = 80  # Observed number of right tilts\n",
    "n_simulations = 10000  # Number of simulations\n",
    "\n",
    "# Simulate 50/50 head tilts for 124 couples, repeated 10,000 times\n",
    "simulated_tilts = np.random.binomial(n=n_couples, p=0.5, size=n_simulations)\n",
    "\n",
    "# Calculate the p-value: proportion of simulations where the result is >= 80\n",
    "p_value = np.mean(simulated_tilts >= observed_right_tilts)\n",
    "\n",
    "print(f\"P-value: {p_value}\")\n"
   ]
  },
  {
   "cell_type": "markdown",
   "id": "c0980787",
   "metadata": {},
   "source": [
    "#6: No, a smaller p-value does not definitively prove that the null hypothesis is false. p-values simply indicate how unlikely it is that the observed data would be true assuming the null hypothesis is true. Even if the p-value is very small, it is still possible (no matter how small) that the result is due to random variation, so it does not definitively prove anything.\n",
    "    In a statistical test, whether the p-value is low or high, it does not prove anything with absolute certainty. Instead, it provides a measure of the degree to which the data support or contradict the null hypothesis. Statistical evidence is probabilistic, not definitive."
   ]
  },
  {
   "cell_type": "markdown",
   "id": "7840336d",
   "metadata": {},
   "source": [
    "#8: \n",
    "problem introduction:\n",
    "\n",
    "This question was inspired by Ronald Fisher's famous tea tasting experiment, when Dr Muriel Bristol claimed that she was able to distinguish the order in which milk and tea were poured into a cup. In this version, a similar experiment was conducted with 80 students in STA130 to test whether they could correctly identify whether tea or milk was poured first. Out of these 80 students, 49 were able to correctly identify the order.\n",
    "Our goal was to conduct statistical analyses to determine whether these results would have occurred by chance if the students had made random guesses, or whether there was evidence that they were able to distinguish the order better than by chance.\n",
    "\n",
    "The sample size was 80 students, all of whom were ordinary students with no experience or ability to distinguish whether the tea or milk was poured first.The null hypothesis would be that the 50% of the students are able to distinguish whether the tea or milk was poured first, and other 50% can not. As for the alternative hypothesis: that the students are able to distinguish the whether the tea or milk was poured first more than 50% chance.\n",
    "\n",
    "Quantitative Analysis:\n",
    "\n",
    "So, as we get the number of students that could be able to distinguish whether the tea or milk was poured first (49) we can calculate the proportion of it: 49/80 = 0.6125. With that number, we could calculate the Z-value which is around 2.01. With the Z-value, we use the table of normal distribution with scale of 1, we see that the area under the curve is about 0.978, and that is our 'left tail probability' to find our P-value, we should find the 'Right tail probability' which is 1 - 0.978 = 0.022. Therefore, 0.022 is our P-value.\n",
    "\n",
    "Findings and Discussion:\n",
    "\n",
    "The analysis shows that the p-value is 0.0222, which is below the significance threshold of 0.05. This indicates that the likelihood of obtaining 49 correct responses out of 80, purely by chance, is quite small. Therefore, we reject the null hypothesis in favor of the alternative hypothesis. This suggests that the students might have some ability to correctly identify the pouring order better than random guessing. Or, in another word: the possibility of getting 49 correct out of 80 is very rare when the null hypothesis is true, but we have to believe our experiments and real collections of data. Therefore, it seems like the null hyppothesis seems rediculous, and we chose to reject it!"
   ]
  },
  {
   "cell_type": "code",
   "execution_count": 1,
   "id": "989ae1ed",
   "metadata": {},
   "outputs": [
    {
     "name": "stdout",
     "output_type": "stream",
     "text": [
      "Z-statistic: 2.01\n",
      "P-value: 0.0221\n"
     ]
    }
   ],
   "source": [
    "#code for visualization:\n",
    "import numpy as np\n",
    "from scipy import stats\n",
    "\n",
    "# Reproducibility\n",
    "np.random.seed(130)\n",
    "\n",
    "# Parameters\n",
    "n = 80  # Total students\n",
    "correct = 49  # Students who got it right\n",
    "p0 = 0.5  # Null hypothesis proportion\n",
    "\n",
    "# Sample proportion\n",
    "p_hat = correct / n\n",
    "\n",
    "# Z-test statistic calculation\n",
    "z_stat = (p_hat - p0) / np.sqrt(p0 * (1 - p0) / n)\n",
    "\n",
    "# P-value calculation for one-tailed test\n",
    "p_value = 1 - stats.norm.cdf(z_stat)\n",
    "\n",
    "# Output\n",
    "print(f\"Z-statistic: {z_stat:.2f}\")\n",
    "print(f\"P-value: {p_value:.4f}\")\n"
   ]
  },
  {
   "cell_type": "markdown",
   "id": "b3440459",
   "metadata": {},
   "source": [
    "https://chatgpt.com/share/67099e17-abd0-8012-a061-fad175352de7"
   ]
  },
  {
   "cell_type": "markdown",
   "id": "e8c17385",
   "metadata": {},
   "source": [
    "#9: yes."
   ]
  }
 ],
 "metadata": {
  "kernelspec": {
   "display_name": "Python 3 (ipykernel)",
   "language": "python",
   "name": "python3"
  },
  "language_info": {
   "codemirror_mode": {
    "name": "ipython",
    "version": 3
   },
   "file_extension": ".py",
   "mimetype": "text/x-python",
   "name": "python",
   "nbconvert_exporter": "python",
   "pygments_lexer": "ipython3",
   "version": "3.11.6"
  }
 },
 "nbformat": 4,
 "nbformat_minor": 5
}
