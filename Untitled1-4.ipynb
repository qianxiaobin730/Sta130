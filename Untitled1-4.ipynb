{
 "cells": [
  {
   "cell_type": "code",
   "execution_count": 1,
   "id": "9193e8f2",
   "metadata": {},
   "outputs": [
    {
     "data": {
      "text/plain": [
       "row_n           0\n",
       "id              1\n",
       "name            0\n",
       "gender          0\n",
       "species         0\n",
       "birthday        0\n",
       "personality     0\n",
       "song           11\n",
       "phrase          0\n",
       "full_id         0\n",
       "url             0\n",
       "dtype: int64"
      ]
     },
     "execution_count": 1,
     "metadata": {},
     "output_type": "execute_result"
    }
   ],
   "source": [
    "import pandas as pd\n",
    "url = \"https://raw.githubusercontent.com/rfordatascience/tidytuesday/master/data/2020/2020-05-05/villagers.csv\"\n",
    "df = pd.read_csv(url)\n",
    "df.isna().sum()"
   ]
  },
  {
   "cell_type": "code",
   "execution_count": 2,
   "id": "52ac7cc3",
   "metadata": {},
   "outputs": [
    {
     "name": "stdout",
     "output_type": "stream",
     "text": [
      "The DataFrame has 3 rows and 3 columns.\n"
     ]
    }
   ],
   "source": [
    "import pandas as pd\n",
    "\n",
    "# Example DataFrame\n",
    "df = pd.DataFrame({\n",
    "    'A': [1, 2, 3],\n",
    "    'B': [4, 5, 6],\n",
    "    'C': [7, 8, 9]\n",
    "})\n",
    "\n",
    "# Get the shape of the DataFrame\n",
    "rows, columns = df.shape\n",
    "\n",
    "print(f'The DataFrame has {rows} rows and {columns} columns.')\n"
   ]
  },
  {
   "cell_type": "code",
   "execution_count": null,
   "id": "f529b62a",
   "metadata": {},
   "outputs": [],
   "source": [
    "import pandas as pd\n",
    "\n",
    "# Load the Pokemon dataset from the given URL\n",
    "url = \"https://raw.githubusercontent.com/KeithGalli/pandas/master/pokemon_data.csv\"\n",
    "pokemon_df = pd.read_csv(url)\n",
    "\n",
    "# Display the first few rows of the dataset\n",
    "pokemon_df.head()"
   ]
  },
  {
   "cell_type": "code",
   "execution_count": 3,
   "id": "6c96e66f",
   "metadata": {},
   "outputs": [
    {
     "name": "stdout",
     "output_type": "stream",
     "text": [
      "      Name  Age Department  Salary\n",
      "0    Alice   23         HR   50000\n",
      "1      Bob   35         IT   60000\n",
      "2  Charlie   45         IT   65000\n",
      "3    David   35         HR   62000\n",
      "4      Eve   23  Marketing   58000\n"
     ]
    }
   ],
   "source": [
    "import pandas as pd\n",
    "\n",
    "# Sample DataFrame with numeric and categorical data\n",
    "data = {\n",
    "    'Name': ['Alice', 'Bob', 'Charlie', 'David', 'Eve'],\n",
    "    'Age': [23, 35, 45, 35, 23],\n",
    "    'Department': ['HR', 'IT', 'IT', 'HR', 'Marketing'],\n",
    "    'Salary': [50000, 60000, 65000, 62000, 58000]\n",
    "}\n",
    "\n",
    "df = pd.DataFrame(data)\n",
    "print(df)\n"
   ]
  },
  {
   "cell_type": "code",
   "execution_count": 4,
   "id": "cd5d9445",
   "metadata": {},
   "outputs": [
    {
     "name": "stdout",
     "output_type": "stream",
     "text": [
      "             Age        Salary\n",
      "count   5.000000      5.000000\n",
      "mean   32.200000  59000.000000\n",
      "std     9.338094   5656.854249\n",
      "min    23.000000  50000.000000\n",
      "25%    23.000000  58000.000000\n",
      "50%    35.000000  60000.000000\n",
      "75%    35.000000  62000.000000\n",
      "max    45.000000  65000.000000\n"
     ]
    }
   ],
   "source": [
    "# Summary statistics for numeric columns in the DataFrame\n",
    "summary = df.describe()\n",
    "print(summary)\n"
   ]
  },
  {
   "cell_type": "code",
   "execution_count": 1,
   "id": "b5474bf1",
   "metadata": {},
   "outputs": [
    {
     "ename": "SyntaxError",
     "evalue": "invalid decimal literal (2923399484.py, line 1)",
     "output_type": "error",
     "traceback": [
      "\u001b[0;36m  Cell \u001b[0;32mIn[1], line 1\u001b[0;36m\u001b[0m\n\u001b[0;31m    https://chatgpt.com/share/4f4c5eae-7442-4bef-a397-caf8e8edbc74\u001b[0m\n\u001b[0m                              ^\u001b[0m\n\u001b[0;31mSyntaxError\u001b[0m\u001b[0;31m:\u001b[0m invalid decimal literal\n"
     ]
    }
   ],
   "source": [
    "https://chatgpt.com/share/4f4c5eae-7442-4bef-a397-caf8e8edbc74\n"
   ]
  },
  {
   "cell_type": "code",
   "execution_count": 2,
   "id": "5b199730",
   "metadata": {},
   "outputs": [
    {
     "ename": "SyntaxError",
     "evalue": "invalid syntax (3191922627.py, line 1)",
     "output_type": "error",
     "traceback": [
      "\u001b[0;36m  Cell \u001b[0;32mIn[2], line 1\u001b[0;36m\u001b[0m\n\u001b[0;31m    6. count: the number of non-missing value in the column\u001b[0m\n\u001b[0m       ^\u001b[0m\n\u001b[0;31mSyntaxError\u001b[0m\u001b[0;31m:\u001b[0m invalid syntax\n"
     ]
    }
   ],
   "source": [
    "6. count: the number of non-missing value in the column\n",
    "    mean: the average value of the column\n",
    "    Standard deviation: The standard deviation measures the spread or dispersion of the data around the mean.\n",
    "    min: the smallest value in the column.\n",
    "    25%: The value below which 25% of the data falls.\n",
    "    50%: The middle value of the dataset, also known as the median.\n",
    "    75%: The value below which 75% of the data falls.\n",
    "    Maximum: The largest value in the column.\n",
    "\n",
    "        "
   ]
  },
  {
   "cell_type": "code",
   "execution_count": 3,
   "id": "cefd565f",
   "metadata": {},
   "outputs": [
    {
     "name": "stdout",
     "output_type": "stream",
     "text": [
      "             Age        Salary\n",
      "count   5.000000      5.000000\n",
      "mean   32.200000  59000.000000\n",
      "std     9.338094   5656.854249\n",
      "min    23.000000  50000.000000\n",
      "25%    23.000000  58000.000000\n",
      "50%    35.000000  60000.000000\n",
      "75%    35.000000  62000.000000\n",
      "max    45.000000  65000.000000\n"
     ]
    }
   ],
   "source": [
    "import pandas as pd\n",
    "\n",
    "data = {\n",
    "    'Age': [23, 35, 45, 35, 23],\n",
    "    'Salary': [50000, 60000, 65000, 62000, 58000]\n",
    "}\n",
    "\n",
    "df = pd.DataFrame(data)\n",
    "print(df.describe())\n"
   ]
  },
  {
   "cell_type": "code",
   "execution_count": 4,
   "id": "0a8a9e20",
   "metadata": {},
   "outputs": [
    {
     "ename": "SyntaxError",
     "evalue": "invalid syntax (4118664353.py, line 1)",
     "output_type": "error",
     "traceback": [
      "\u001b[0;36m  Cell \u001b[0;32mIn[4], line 1\u001b[0;36m\u001b[0m\n\u001b[0;31m    You are analyzing customer data, and the dataset contains several columns such as Name, Age, Email, and Salary. Some rows have missing values in various columns (e.g., Age is missing for some customers, while Email is missing for others). Instead of deleting entire columns, you want to drop rows that have missing values, as retaining partial information from other columns is valuable for your analysis.\u001b[0m\n\u001b[0m        ^\u001b[0m\n\u001b[0;31mSyntaxError\u001b[0m\u001b[0;31m:\u001b[0m invalid syntax\n"
     ]
    }
   ],
   "source": [
    "You are analyzing customer data, and the dataset contains several columns such as Name, Age, Email, and Salary. Some rows have missing values in various columns (e.g., Age is missing for some customers, while Email is missing for others). Instead of deleting entire columns, you want to drop rows that have missing values, as retaining partial information from other columns is valuable for your analysis.\n"
   ]
  },
  {
   "cell_type": "code",
   "execution_count": 5,
   "id": "d5e86b26",
   "metadata": {},
   "outputs": [
    {
     "ename": "SyntaxError",
     "evalue": "unterminated string literal (detected at line 1) (1988925219.py, line 1)",
     "output_type": "error",
     "traceback": [
      "\u001b[0;36m  Cell \u001b[0;32mIn[5], line 1\u001b[0;36m\u001b[0m\n\u001b[0;31m    You have a dataset containing customer information, including Name, Age, Email, and Salary, but the Email column is mostly empty or irrelevant for your analysis. You don't want to lose rows with valuable information in other columns (like Age or Salary) just because the Email column is incomplete. In this case, you might prefer to remove the Email column entirely using del rather than removing rows using df.dropna().\u001b[0m\n\u001b[0m                                                                                                                                                                             ^\u001b[0m\n\u001b[0;31mSyntaxError\u001b[0m\u001b[0;31m:\u001b[0m unterminated string literal (detected at line 1)\n"
     ]
    }
   ],
   "source": [
    "You have a dataset containing customer information, including Name, Age, Email, and Salary, but the Email column is mostly empty or irrelevant for your analysis. You don't want to lose rows with valuable information in other columns (like Age or Salary) just because the Email column is incomplete. In this case, you might prefer to remove the Email column entirely using del rather than removing rows using df.dropna().\n"
   ]
  },
  {
   "cell_type": "code",
   "execution_count": 1,
   "id": "e101dcb9",
   "metadata": {},
   "outputs": [
    {
     "ename": "SyntaxError",
     "evalue": "unterminated string literal (detected at line 1) (1988925219.py, line 1)",
     "output_type": "error",
     "traceback": [
      "\u001b[0;36m  Cell \u001b[0;32mIn[1], line 1\u001b[0;36m\u001b[0m\n\u001b[0;31m    You have a dataset containing customer information, including Name, Age, Email, and Salary, but the Email column is mostly empty or irrelevant for your analysis. You don't want to lose rows with valuable information in other columns (like Age or Salary) just because the Email column is incomplete. In this case, you might prefer to remove the Email column entirely using del rather than removing rows using df.dropna().\u001b[0m\n\u001b[0m                                                                                                                                                                             ^\u001b[0m\n\u001b[0;31mSyntaxError\u001b[0m\u001b[0;31m:\u001b[0m unterminated string literal (detected at line 1)\n"
     ]
    }
   ],
   "source": [
    "You have a dataset containing customer information, including Name, Age, Email, and Salary, but the Email column is mostly empty or irrelevant for your analysis. You don't want to lose rows with valuable information in other columns (like Age or Salary) just because the Email column is incomplete. In this case, you might prefer to remove the Email column entirely using del rather than removing rows using df.dropna().\n"
   ]
  },
  {
   "cell_type": "code",
   "execution_count": 2,
   "id": "77c675fa",
   "metadata": {},
   "outputs": [
    {
     "ename": "SyntaxError",
     "evalue": "unterminated string literal (detected at line 1) (2508449480.py, line 1)",
     "output_type": "error",
     "traceback": [
      "\u001b[0;36m  Cell \u001b[0;32mIn[2], line 1\u001b[0;36m\u001b[0m\n\u001b[0;31m    Consider a DataFrame with columns Name, Age, Email, and Salary. The Email column has many missing values, but you don't need Email for your analysis, and dropping rows with missing values in Email would also remove rows with complete Age and Salary information.\u001b[0m\n\u001b[0m                                                                                                                         ^\u001b[0m\n\u001b[0;31mSyntaxError\u001b[0m\u001b[0;31m:\u001b[0m unterminated string literal (detected at line 1)\n"
     ]
    }
   ],
   "source": [
    "Consider a DataFrame with columns Name, Age, Email, and Salary. The Email column has many missing values, but you don't need Email for your analysis, and dropping rows with missing values in Email would also remove rows with complete Age and Salary information.\n",
    "\n"
   ]
  },
  {
   "cell_type": "code",
   "execution_count": 3,
   "id": "177602d2",
   "metadata": {},
   "outputs": [
    {
     "name": "stdout",
     "output_type": "stream",
     "text": [
      "Before cleaning:\n",
      "      Name   Age              Email   Salary\n",
      "0    Alice  23.0                NaN  50000.0\n",
      "1      Bob   NaN    bob@example.com  60000.0\n",
      "2  Charlie  35.0                NaN      NaN\n",
      "3    David  30.0  david@example.com  58000.0\n",
      "4      Eve  40.0    eve@example.com  62000.0\n"
     ]
    }
   ],
   "source": [
    "import pandas as pd\n",
    "import numpy as np\n",
    "\n",
    "# Sample dataset with missing values\n",
    "data = {\n",
    "    'Name': ['Alice', 'Bob', 'Charlie', 'David', 'Eve'],\n",
    "    'Age': [23, np.nan, 35, 30, 40],\n",
    "    'Email': [np.nan, 'bob@example.com', np.nan, 'david@example.com', 'eve@example.com'],\n",
    "    'Salary': [50000, 60000, np.nan, 58000, 62000]\n",
    "}\n",
    "\n",
    "df = pd.DataFrame(data)\n",
    "print(\"Before cleaning:\")\n",
    "print(df)\n",
    "\n"
   ]
  },
  {
   "cell_type": "code",
   "execution_count": 4,
   "id": "45547b20",
   "metadata": {},
   "outputs": [
    {
     "name": "stdout",
     "output_type": "stream",
     "text": [
      "\n",
      "After cleaning:\n",
      "    Name   Age   Salary\n",
      "0  Alice  23.0  50000.0\n",
      "3  David  30.0  58000.0\n",
      "4    Eve  40.0  62000.0\n"
     ]
    }
   ],
   "source": [
    "# Step 1: Delete the 'Email' column\n",
    "del df['Email']\n",
    "\n",
    "# Step 2: Drop rows with missing values in remaining columns\n",
    "df_cleaned = df.dropna()\n",
    "\n",
    "print(\"\\nAfter cleaning:\")\n",
    "print(df_cleaned)\n"
   ]
  },
  {
   "cell_type": "code",
   "execution_count": 5,
   "id": "380eb60f",
   "metadata": {},
   "outputs": [
    {
     "name": "stdout",
     "output_type": "stream",
     "text": [
      "  Class  Student  Score\n",
      "0     A    Alice     85\n",
      "1     A      Bob     90\n",
      "2     B  Charlie     88\n",
      "3     B    David     95\n",
      "4     A      Eve     78\n",
      "5     B    Frank     82\n",
      "6     C    Grace     89\n",
      "7     C     Hank     76\n",
      "8     C      Ivy     91\n",
      "9     B     Jack     87\n"
     ]
    }
   ],
   "source": [
    "import pandas as pd\n",
    "\n",
    "# Create a sample DataFrame\n",
    "data = {\n",
    "    'Class': ['A', 'A', 'B', 'B', 'A', 'B', 'C', 'C', 'C', 'B'],\n",
    "    'Student': ['Alice', 'Bob', 'Charlie', 'David', 'Eve', 'Frank', 'Grace', 'Hank', 'Ivy', 'Jack'],\n",
    "    'Score': [85, 90, 88, 95, 78, 82, 89, 76, 91, 87]\n",
    "}\n",
    "\n",
    "df = pd.DataFrame(data)\n",
    "print(df)\n"
   ]
  },
  {
   "cell_type": "code",
   "execution_count": 6,
   "id": "9910f8c6",
   "metadata": {},
   "outputs": [
    {
     "name": "stdout",
     "output_type": "stream",
     "text": [
      "       count       mean       std   min    25%   50%    75%   max\n",
      "Class                                                            \n",
      "A        3.0  84.333333  6.027714  78.0  81.50  85.0  87.50  90.0\n",
      "B        4.0  88.000000  5.354126  82.0  85.75  87.5  89.75  95.0\n",
      "C        3.0  85.333333  8.144528  76.0  82.50  89.0  90.00  91.0\n"
     ]
    }
   ],
   "source": [
    "# Group by 'Class' and describe the 'Score' for each group\n",
    "grouped_stats = df.groupby(\"Class\")[\"Score\"].describe()\n",
    "print(grouped_stats)\n"
   ]
  },
  {
   "cell_type": "code",
   "execution_count": null,
   "id": "65d79e0e",
   "metadata": {},
   "outputs": [],
   "source": [
    "Q9：mostly\n",
    "https://chatgpt.com/share/4f4c5eae-7442-4bef-a397-caf8e8edbc74"
   ]
  }
 ],
 "metadata": {
  "kernelspec": {
   "display_name": "Python 3 (ipykernel)",
   "language": "python",
   "name": "python3"
  },
  "language_info": {
   "codemirror_mode": {
    "name": "ipython",
    "version": 3
   },
   "file_extension": ".py",
   "mimetype": "text/x-python",
   "name": "python",
   "nbconvert_exporter": "python",
   "pygments_lexer": "ipython3",
   "version": "3.11.6"
  }
 },
 "nbformat": 4,
 "nbformat_minor": 5
}
