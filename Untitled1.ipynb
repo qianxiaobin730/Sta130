{
 "cells": [
  {
   "cell_type": "code",
   "execution_count": 1,
   "id": "9193e8f2",
   "metadata": {},
   "outputs": [
    {
     "data": {
      "text/plain": [
       "row_n           0\n",
       "id              1\n",
       "name            0\n",
       "gender          0\n",
       "species         0\n",
       "birthday        0\n",
       "personality     0\n",
       "song           11\n",
       "phrase          0\n",
       "full_id         0\n",
       "url             0\n",
       "dtype: int64"
      ]
     },
     "execution_count": 1,
     "metadata": {},
     "output_type": "execute_result"
    }
   ],
   "source": [
    "import pandas as pd\n",
    "url = \"https://raw.githubusercontent.com/rfordatascience/tidytuesday/master/data/2020/2020-05-05/villagers.csv\"\n",
    "df = pd.read_csv(url)\n",
    "df.isna().sum()"
   ]
  },
  {
   "cell_type": "code",
   "execution_count": 2,
   "id": "52ac7cc3",
   "metadata": {},
   "outputs": [
    {
     "name": "stdout",
     "output_type": "stream",
     "text": [
      "The DataFrame has 3 rows and 3 columns.\n"
     ]
    }
   ],
   "source": [
    "import pandas as pd\n",
    "\n",
    "# Example DataFrame\n",
    "df = pd.DataFrame({\n",
    "    'A': [1, 2, 3],\n",
    "    'B': [4, 5, 6],\n",
    "    'C': [7, 8, 9]\n",
    "})\n",
    "\n",
    "# Get the shape of the DataFrame\n",
    "rows, columns = df.shape\n",
    "\n",
    "print(f'The DataFrame has {rows} rows and {columns} columns.')\n"
   ]
  },
  {
   "cell_type": "code",
   "execution_count": 3,
   "id": "6c96e66f",
   "metadata": {},
   "outputs": [
    {
     "name": "stdout",
     "output_type": "stream",
     "text": [
      "      Name  Age Department  Salary\n",
      "0    Alice   23         HR   50000\n",
      "1      Bob   35         IT   60000\n",
      "2  Charlie   45         IT   65000\n",
      "3    David   35         HR   62000\n",
      "4      Eve   23  Marketing   58000\n"
     ]
    }
   ],
   "source": [
    "import pandas as pd\n",
    "\n",
    "# Sample DataFrame with numeric and categorical data\n",
    "data = {\n",
    "    'Name': ['Alice', 'Bob', 'Charlie', 'David', 'Eve'],\n",
    "    'Age': [23, 35, 45, 35, 23],\n",
    "    'Department': ['HR', 'IT', 'IT', 'HR', 'Marketing'],\n",
    "    'Salary': [50000, 60000, 65000, 62000, 58000]\n",
    "}\n",
    "\n",
    "df = pd.DataFrame(data)\n",
    "print(df)\n"
   ]
  },
  {
   "cell_type": "code",
   "execution_count": 4,
   "id": "cd5d9445",
   "metadata": {},
   "outputs": [
    {
     "name": "stdout",
     "output_type": "stream",
     "text": [
      "             Age        Salary\n",
      "count   5.000000      5.000000\n",
      "mean   32.200000  59000.000000\n",
      "std     9.338094   5656.854249\n",
      "min    23.000000  50000.000000\n",
      "25%    23.000000  58000.000000\n",
      "50%    35.000000  60000.000000\n",
      "75%    35.000000  62000.000000\n",
      "max    45.000000  65000.000000\n"
     ]
    }
   ],
   "source": [
    "# Summary statistics for numeric columns in the DataFrame\n",
    "summary = df.describe()\n",
    "print(summary)\n"
   ]
  },
  {
   "cell_type": "code",
   "execution_count": null,
   "id": "b5474bf1",
   "metadata": {},
   "outputs": [],
   "source": []
  }
 ],
 "metadata": {
  "kernelspec": {
   "display_name": "Python 3 (ipykernel)",
   "language": "python",
   "name": "python3"
  },
  "language_info": {
   "codemirror_mode": {
    "name": "ipython",
    "version": 3
   },
   "file_extension": ".py",
   "mimetype": "text/x-python",
   "name": "python",
   "nbconvert_exporter": "python",
   "pygments_lexer": "ipython3",
   "version": "3.11.6"
  }
 },
 "nbformat": 4,
 "nbformat_minor": 5
}
